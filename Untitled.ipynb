{
 "cells": [
  {
   "cell_type": "code",
   "execution_count": null,
   "metadata": {},
   "outputs": [],
   "source": []
  },
  {
   "cell_type": "code",
   "execution_count": 1,
   "metadata": {
    "collapsed": true
   },
   "outputs": [],
   "source": [
    "#database shape: np.array((name1, vector1), (name2, vector2), etc.)\n",
    "def match(database, imgvector): #vector.shape: (128,) \n",
    "    closest_person = \"\" #most similar person\n",
    "    closest_l2 = np.iinfo(np.int16).max #distance w/ most similar person\n",
    "    \n",
    "    for face in database: #look thru every face in db\n",
    "        l2 = face[1] - imgvector #distance between db face and the given face\n",
    "        if (l2 < closest_l2): #if l2 is smaller\n",
    "            closest_l2 = l2 \n",
    "            closest_person = face[0]\n",
    "    if (l2 > 100):\n",
    "        return \"cant find anyone close\"\n",
    "    else:\n",
    "        return closest_person\n",
    "    \n",
    "    "
   ]
  },
  {
   "cell_type": "code",
   "execution_count": 2,
   "metadata": {},
   "outputs": [],
   "source": [
    "import skimage.io as io\n",
    "# read a picture in as a numpy-array\n",
    "img_array = io.imread(\"google.png\")  # ensure this has shape (H, W, 3)\n",
    "                                                  # otherwise, fix it!"
   ]
  },
  {
   "cell_type": "code",
   "execution_count": 7,
   "metadata": {},
   "outputs": [
    {
     "ename": "ModuleNotFoundError",
     "evalue": "No module named 'dlib_models'",
     "output_type": "error",
     "traceback": [
      "\u001b[0;31m---------------------------------------------------------------------------\u001b[0m",
      "\u001b[0;31mModuleNotFoundError\u001b[0m                       Traceback (most recent call last)",
      "\u001b[0;32m<ipython-input-7-fc29fbeaebd4>\u001b[0m in \u001b[0;36m<module>\u001b[0;34m()\u001b[0m\n\u001b[0;32m----> 1\u001b[0;31m \u001b[0;32mimport\u001b[0m \u001b[0mdlib_models\u001b[0m\u001b[0;34m\u001b[0m\u001b[0m\n\u001b[0m\u001b[1;32m      2\u001b[0m \u001b[0;32mfrom\u001b[0m \u001b[0mdlib_models\u001b[0m \u001b[0;32mimport\u001b[0m \u001b[0mload_dlib_models\u001b[0m\u001b[0;34m\u001b[0m\u001b[0m\n\u001b[1;32m      3\u001b[0m \u001b[0;34m\u001b[0m\u001b[0m\n\u001b[1;32m      4\u001b[0m \u001b[0;31m# this loads the dlib models into memory. You should only import the models *after* loading them.\u001b[0m\u001b[0;34m\u001b[0m\u001b[0;34m\u001b[0m\u001b[0m\n\u001b[1;32m      5\u001b[0m \u001b[0;31m# This does lazy-loading: it doesn't do anything if the models are already loaded.\u001b[0m\u001b[0;34m\u001b[0m\u001b[0;34m\u001b[0m\u001b[0m\n",
      "\u001b[0;31mModuleNotFoundError\u001b[0m: No module named 'dlib_models'"
     ]
    }
   ],
   "source": [
    "import dlib_models\n",
    "from dlib_models import load_dlib_models\n",
    "\n",
    "# this loads the dlib models into memory. You should only import the models *after* loading them.\n",
    "# This does lazy-loading: it doesn't do anything if the models are already loaded.\n",
    "load_dlib_models()\n",
    "\n",
    "from dlib_models import models  # must be called after loading the models"
   ]
  },
  {
   "cell_type": "code",
   "execution_count": null,
   "metadata": {
    "collapsed": true
   },
   "outputs": [],
   "source": []
  }
 ],
 "metadata": {
  "kernelspec": {
   "display_name": "Python 3",
   "language": "python",
   "name": "python3"
  },
  "language_info": {
   "codemirror_mode": {
    "name": "ipython",
    "version": 3
   },
   "file_extension": ".py",
   "mimetype": "text/x-python",
   "name": "python",
   "nbconvert_exporter": "python",
   "pygments_lexer": "ipython3",
   "version": "3.6.1"
  }
 },
 "nbformat": 4,
 "nbformat_minor": 2
}
